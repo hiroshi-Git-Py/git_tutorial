{
  "nbformat": 4,
  "nbformat_minor": 0,
  "metadata": {
    "colab": {
      "name": "streamlit.ipynb",
      "provenance": [],
      "collapsed_sections": [],
      "toc_visible": true,
      "authorship_tag": "ABX9TyN2rBSymazrfJ3Ib8ciwCw/",
      "include_colab_link": true
    },
    "kernelspec": {
      "name": "python3",
      "display_name": "Python 3"
    }
  },
  "cells": [
    {
      "cell_type": "markdown",
      "metadata": {
        "id": "view-in-github",
        "colab_type": "text"
      },
      "source": [
        "<a href=\"https://colab.research.google.com/github/hiroshi-Git-Py/git_tutorial/blob/main/streamlit.ipynb\" target=\"_parent\"><img src=\"https://colab.research.google.com/assets/colab-badge.svg\" alt=\"Open In Colab\"/></a>"
      ]
    },
    {
      "cell_type": "markdown",
      "metadata": {
        "id": "EwRhTyk6-YBH"
      },
      "source": [
        "# **■streamlit**\n",
        "\n",
        "インストールする\n",
        "\n",
        "\n",
        "```\n",
        "pip install streamlit\n",
        "```\n",
        "\n"
      ]
    },
    {
      "cell_type": "code",
      "metadata": {
        "id": "ghdqk0pC-Xn8"
      },
      "source": [
        "import streamlit as st\n",
        "import numpy as np\n",
        "import pandas as pd\n",
        "from PIL import Image\n"
      ],
      "execution_count": null,
      "outputs": []
    },
    {
      "cell_type": "markdown",
      "metadata": {
        "id": "4BeWxtI2_0YH"
      },
      "source": [
        "# **■タイトル**\n",
        "st.title('')\n"
      ]
    },
    {
      "cell_type": "code",
      "metadata": {
        "colab": {
          "base_uri": "https://localhost:8080/"
        },
        "id": "khx2YnGH_mlC",
        "outputId": "9d76af64-8e1f-43bb-ca0b-d21b51b508db"
      },
      "source": [
        "st.title('streamlit 入門')"
      ],
      "execution_count": null,
      "outputs": [
        {
          "output_type": "execute_result",
          "data": {
            "text/plain": [
              "<streamlit.delta_generator.DeltaGenerator at 0x7f3ebd4e0438>"
            ]
          },
          "metadata": {
            "tags": []
          },
          "execution_count": 2
        }
      ]
    },
    {
      "cell_type": "markdown",
      "metadata": {
        "id": "aNMRxY1bD2Pi"
      },
      "source": [
        "# **■データフレームを書き込み。**\n",
        "dataframe は表の縦横サイズ指定できる。動的\n",
        "ハイライトつけられる。\n",
        "table は静的\n",
        "```\n",
        "st.dataframe(df.style.highlight_max(axis=0),width=100,height=100)\n",
        "st.table(df.style.highlight_max(axis=0),width=100,height=100)\n",
        "\n",
        "```\n",
        "\n",
        "\n",
        "\n"
      ]
    },
    {
      "cell_type": "code",
      "metadata": {
        "colab": {
          "base_uri": "https://localhost:8080/",
          "height": 173
        },
        "id": "PTOdzDwiDeWv",
        "outputId": "8ca9ae7e-30ca-4233-b580-975abcd80f55"
      },
      "source": [
        "df = pd.DataFrame({\n",
        "    '1列目':[1,2,3,4],\n",
        "    '2列目':[10,20,30,40]\n",
        "})\n",
        "\n",
        "df"
      ],
      "execution_count": null,
      "outputs": [
        {
          "output_type": "execute_result",
          "data": {
            "text/html": [
              "<div>\n",
              "<style scoped>\n",
              "    .dataframe tbody tr th:only-of-type {\n",
              "        vertical-align: middle;\n",
              "    }\n",
              "\n",
              "    .dataframe tbody tr th {\n",
              "        vertical-align: top;\n",
              "    }\n",
              "\n",
              "    .dataframe thead th {\n",
              "        text-align: right;\n",
              "    }\n",
              "</style>\n",
              "<table border=\"1\" class=\"dataframe\">\n",
              "  <thead>\n",
              "    <tr style=\"text-align: right;\">\n",
              "      <th></th>\n",
              "      <th>1列目</th>\n",
              "      <th>2列目</th>\n",
              "    </tr>\n",
              "  </thead>\n",
              "  <tbody>\n",
              "    <tr>\n",
              "      <th>0</th>\n",
              "      <td>1</td>\n",
              "      <td>10</td>\n",
              "    </tr>\n",
              "    <tr>\n",
              "      <th>1</th>\n",
              "      <td>2</td>\n",
              "      <td>20</td>\n",
              "    </tr>\n",
              "    <tr>\n",
              "      <th>2</th>\n",
              "      <td>3</td>\n",
              "      <td>30</td>\n",
              "    </tr>\n",
              "    <tr>\n",
              "      <th>3</th>\n",
              "      <td>4</td>\n",
              "      <td>40</td>\n",
              "    </tr>\n",
              "  </tbody>\n",
              "</table>\n",
              "</div>"
            ],
            "text/plain": [
              "   1列目  2列目\n",
              "0    1   10\n",
              "1    2   20\n",
              "2    3   30\n",
              "3    4   40"
            ]
          },
          "metadata": {
            "tags": []
          },
          "execution_count": 3
        }
      ]
    },
    {
      "cell_type": "markdown",
      "metadata": {
        "id": "2EG6wdXEDTxZ"
      },
      "source": [
        ""
      ]
    },
    {
      "cell_type": "code",
      "metadata": {
        "id": "IK9vFlohGjWD"
      },
      "source": [
        ""
      ],
      "execution_count": null,
      "outputs": []
    },
    {
      "cell_type": "code",
      "metadata": {
        "id": "NT5dRR75_m4t"
      },
      "source": [
        "st.write(df)"
      ],
      "execution_count": null,
      "outputs": []
    },
    {
      "cell_type": "markdown",
      "metadata": {
        "id": "1IdWobAtFpFr"
      },
      "source": [
        "# **■マジックコマンド**\n",
        "マークダウン\n",
        "```\n",
        "\"\"\"\n",
        "# 章\n",
        "## 節\n",
        "### 項\n",
        "\n",
        "```python\n",
        "import streamlit as st\n",
        "import numpy as np\n",
        "import pandas as pd\n",
        "```\n",
        "\n",
        "\"\"\"\n",
        "```\n"
      ]
    },
    {
      "cell_type": "markdown",
      "metadata": {
        "id": "h9KjZCU8IAx9"
      },
      "source": [
        "# **■チャートを描く**\n",
        "dfにランダムでデータを入れる。"
      ]
    },
    {
      "cell_type": "code",
      "metadata": {
        "id": "XqmZSsxb99VK",
        "colab": {
          "base_uri": "https://localhost:8080/",
          "height": 669
        },
        "outputId": "74052ff4-59ea-4051-a38b-02b48291fa96"
      },
      "source": [
        "df = pd.DataFrame(\n",
        "    np.random.rand(20,3),\n",
        "    columns=['a','v','c']\n",
        ")\n",
        "df"
      ],
      "execution_count": null,
      "outputs": [
        {
          "output_type": "execute_result",
          "data": {
            "text/html": [
              "<div>\n",
              "<style scoped>\n",
              "    .dataframe tbody tr th:only-of-type {\n",
              "        vertical-align: middle;\n",
              "    }\n",
              "\n",
              "    .dataframe tbody tr th {\n",
              "        vertical-align: top;\n",
              "    }\n",
              "\n",
              "    .dataframe thead th {\n",
              "        text-align: right;\n",
              "    }\n",
              "</style>\n",
              "<table border=\"1\" class=\"dataframe\">\n",
              "  <thead>\n",
              "    <tr style=\"text-align: right;\">\n",
              "      <th></th>\n",
              "      <th>a</th>\n",
              "      <th>v</th>\n",
              "      <th>c</th>\n",
              "    </tr>\n",
              "  </thead>\n",
              "  <tbody>\n",
              "    <tr>\n",
              "      <th>0</th>\n",
              "      <td>0.851610</td>\n",
              "      <td>0.493037</td>\n",
              "      <td>0.321313</td>\n",
              "    </tr>\n",
              "    <tr>\n",
              "      <th>1</th>\n",
              "      <td>0.619669</td>\n",
              "      <td>0.909721</td>\n",
              "      <td>0.265606</td>\n",
              "    </tr>\n",
              "    <tr>\n",
              "      <th>2</th>\n",
              "      <td>0.356198</td>\n",
              "      <td>0.175157</td>\n",
              "      <td>0.263157</td>\n",
              "    </tr>\n",
              "    <tr>\n",
              "      <th>3</th>\n",
              "      <td>0.291290</td>\n",
              "      <td>0.342727</td>\n",
              "      <td>0.281542</td>\n",
              "    </tr>\n",
              "    <tr>\n",
              "      <th>4</th>\n",
              "      <td>0.812911</td>\n",
              "      <td>0.064097</td>\n",
              "      <td>0.587612</td>\n",
              "    </tr>\n",
              "    <tr>\n",
              "      <th>5</th>\n",
              "      <td>0.439723</td>\n",
              "      <td>0.971583</td>\n",
              "      <td>0.726633</td>\n",
              "    </tr>\n",
              "    <tr>\n",
              "      <th>6</th>\n",
              "      <td>0.456136</td>\n",
              "      <td>0.630569</td>\n",
              "      <td>0.824969</td>\n",
              "    </tr>\n",
              "    <tr>\n",
              "      <th>7</th>\n",
              "      <td>0.441932</td>\n",
              "      <td>0.673708</td>\n",
              "      <td>0.668645</td>\n",
              "    </tr>\n",
              "    <tr>\n",
              "      <th>8</th>\n",
              "      <td>0.342412</td>\n",
              "      <td>0.461954</td>\n",
              "      <td>0.470771</td>\n",
              "    </tr>\n",
              "    <tr>\n",
              "      <th>9</th>\n",
              "      <td>0.169233</td>\n",
              "      <td>0.058638</td>\n",
              "      <td>0.205216</td>\n",
              "    </tr>\n",
              "    <tr>\n",
              "      <th>10</th>\n",
              "      <td>0.754791</td>\n",
              "      <td>0.992207</td>\n",
              "      <td>0.414395</td>\n",
              "    </tr>\n",
              "    <tr>\n",
              "      <th>11</th>\n",
              "      <td>0.671287</td>\n",
              "      <td>0.774888</td>\n",
              "      <td>0.146868</td>\n",
              "    </tr>\n",
              "    <tr>\n",
              "      <th>12</th>\n",
              "      <td>0.292078</td>\n",
              "      <td>0.656982</td>\n",
              "      <td>0.016799</td>\n",
              "    </tr>\n",
              "    <tr>\n",
              "      <th>13</th>\n",
              "      <td>0.852584</td>\n",
              "      <td>0.081977</td>\n",
              "      <td>0.822575</td>\n",
              "    </tr>\n",
              "    <tr>\n",
              "      <th>14</th>\n",
              "      <td>0.871776</td>\n",
              "      <td>0.940788</td>\n",
              "      <td>0.275647</td>\n",
              "    </tr>\n",
              "    <tr>\n",
              "      <th>15</th>\n",
              "      <td>0.812526</td>\n",
              "      <td>0.728790</td>\n",
              "      <td>0.511491</td>\n",
              "    </tr>\n",
              "    <tr>\n",
              "      <th>16</th>\n",
              "      <td>0.956486</td>\n",
              "      <td>0.651792</td>\n",
              "      <td>0.429239</td>\n",
              "    </tr>\n",
              "    <tr>\n",
              "      <th>17</th>\n",
              "      <td>0.580275</td>\n",
              "      <td>0.645307</td>\n",
              "      <td>0.321974</td>\n",
              "    </tr>\n",
              "    <tr>\n",
              "      <th>18</th>\n",
              "      <td>0.493441</td>\n",
              "      <td>0.151250</td>\n",
              "      <td>0.877029</td>\n",
              "    </tr>\n",
              "    <tr>\n",
              "      <th>19</th>\n",
              "      <td>0.657640</td>\n",
              "      <td>0.694427</td>\n",
              "      <td>0.200125</td>\n",
              "    </tr>\n",
              "  </tbody>\n",
              "</table>\n",
              "</div>"
            ],
            "text/plain": [
              "           a         v         c\n",
              "0   0.851610  0.493037  0.321313\n",
              "1   0.619669  0.909721  0.265606\n",
              "2   0.356198  0.175157  0.263157\n",
              "3   0.291290  0.342727  0.281542\n",
              "4   0.812911  0.064097  0.587612\n",
              "5   0.439723  0.971583  0.726633\n",
              "6   0.456136  0.630569  0.824969\n",
              "7   0.441932  0.673708  0.668645\n",
              "8   0.342412  0.461954  0.470771\n",
              "9   0.169233  0.058638  0.205216\n",
              "10  0.754791  0.992207  0.414395\n",
              "11  0.671287  0.774888  0.146868\n",
              "12  0.292078  0.656982  0.016799\n",
              "13  0.852584  0.081977  0.822575\n",
              "14  0.871776  0.940788  0.275647\n",
              "15  0.812526  0.728790  0.511491\n",
              "16  0.956486  0.651792  0.429239\n",
              "17  0.580275  0.645307  0.321974\n",
              "18  0.493441  0.151250  0.877029\n",
              "19  0.657640  0.694427  0.200125"
            ]
          },
          "metadata": {
            "tags": []
          },
          "execution_count": 5
        }
      ]
    },
    {
      "cell_type": "markdown",
      "metadata": {
        "id": "GthL9gkcJbtI"
      },
      "source": [
        "# **■チャートの種類**\n",
        "\n",
        "\n",
        "```\n",
        "①折れ線グラフ\n",
        "st.line_chart(df)\n",
        "②エリアグラフ\n",
        "st.area_chart(df)\n",
        "③棒グラフ\n",
        "st.bar_chart(df)\n",
        "```\n",
        "\n"
      ]
    },
    {
      "cell_type": "markdown",
      "metadata": {
        "id": "sJupK4H2KdOP"
      },
      "source": [
        "# **■マップをプロット**\n",
        "緯度と経度をdfに入れる。\n",
        "\n",
        "\n",
        "\n",
        "```\n",
        "st.map(df)\n",
        "```\n",
        "\n"
      ]
    },
    {
      "cell_type": "code",
      "metadata": {
        "colab": {
          "base_uri": "https://localhost:8080/",
          "height": 419
        },
        "id": "5klmulmtJbby",
        "outputId": "43d44fc5-2b28-485b-eb06-2f3c9e0a6ace"
      },
      "source": [
        "df = pd.DataFrame(\n",
        "    np.random.rand(100,2)/[50,50]+[35.69,139.70],\n",
        "    columns=['lat','lon']\n",
        ")\n",
        "df"
      ],
      "execution_count": null,
      "outputs": [
        {
          "output_type": "execute_result",
          "data": {
            "text/html": [
              "<div>\n",
              "<style scoped>\n",
              "    .dataframe tbody tr th:only-of-type {\n",
              "        vertical-align: middle;\n",
              "    }\n",
              "\n",
              "    .dataframe tbody tr th {\n",
              "        vertical-align: top;\n",
              "    }\n",
              "\n",
              "    .dataframe thead th {\n",
              "        text-align: right;\n",
              "    }\n",
              "</style>\n",
              "<table border=\"1\" class=\"dataframe\">\n",
              "  <thead>\n",
              "    <tr style=\"text-align: right;\">\n",
              "      <th></th>\n",
              "      <th>lat</th>\n",
              "      <th>lon</th>\n",
              "    </tr>\n",
              "  </thead>\n",
              "  <tbody>\n",
              "    <tr>\n",
              "      <th>0</th>\n",
              "      <td>35.704832</td>\n",
              "      <td>139.706761</td>\n",
              "    </tr>\n",
              "    <tr>\n",
              "      <th>1</th>\n",
              "      <td>35.694443</td>\n",
              "      <td>139.710983</td>\n",
              "    </tr>\n",
              "    <tr>\n",
              "      <th>2</th>\n",
              "      <td>35.701271</td>\n",
              "      <td>139.706586</td>\n",
              "    </tr>\n",
              "    <tr>\n",
              "      <th>3</th>\n",
              "      <td>35.692123</td>\n",
              "      <td>139.709352</td>\n",
              "    </tr>\n",
              "    <tr>\n",
              "      <th>4</th>\n",
              "      <td>35.704500</td>\n",
              "      <td>139.716887</td>\n",
              "    </tr>\n",
              "    <tr>\n",
              "      <th>...</th>\n",
              "      <td>...</td>\n",
              "      <td>...</td>\n",
              "    </tr>\n",
              "    <tr>\n",
              "      <th>95</th>\n",
              "      <td>35.708248</td>\n",
              "      <td>139.702869</td>\n",
              "    </tr>\n",
              "    <tr>\n",
              "      <th>96</th>\n",
              "      <td>35.690339</td>\n",
              "      <td>139.710781</td>\n",
              "    </tr>\n",
              "    <tr>\n",
              "      <th>97</th>\n",
              "      <td>35.698521</td>\n",
              "      <td>139.713629</td>\n",
              "    </tr>\n",
              "    <tr>\n",
              "      <th>98</th>\n",
              "      <td>35.703866</td>\n",
              "      <td>139.708721</td>\n",
              "    </tr>\n",
              "    <tr>\n",
              "      <th>99</th>\n",
              "      <td>35.700798</td>\n",
              "      <td>139.708294</td>\n",
              "    </tr>\n",
              "  </tbody>\n",
              "</table>\n",
              "<p>100 rows × 2 columns</p>\n",
              "</div>"
            ],
            "text/plain": [
              "          lat         lon\n",
              "0   35.704832  139.706761\n",
              "1   35.694443  139.710983\n",
              "2   35.701271  139.706586\n",
              "3   35.692123  139.709352\n",
              "4   35.704500  139.716887\n",
              "..        ...         ...\n",
              "95  35.708248  139.702869\n",
              "96  35.690339  139.710781\n",
              "97  35.698521  139.713629\n",
              "98  35.703866  139.708721\n",
              "99  35.700798  139.708294\n",
              "\n",
              "[100 rows x 2 columns]"
            ]
          },
          "metadata": {
            "tags": []
          },
          "execution_count": 10
        }
      ]
    },
    {
      "cell_type": "markdown",
      "metadata": {
        "id": "QuQ6Xg6YRu1F"
      },
      "source": [
        "# **■画像を表示**\n",
        "\n",
        "画像データを読み込む。\n",
        "\n",
        "captionは写真の下に表示するコメントみたいなものかな。\n",
        "\n",
        "use_column_width=Trueは、実際のレイアウト幅に合わせて表示する。\n",
        "```\n",
        "from PIL import Image\n",
        "img = Image.open('sample.jpg')\n",
        "st.image(img,caption='aoi',use_column_width=True)\n",
        "```\n",
        "\n"
      ]
    },
    {
      "cell_type": "code",
      "metadata": {
        "id": "iAnkJ2dYRuo2"
      },
      "source": [
        "st.write('display image')\n",
        "img = Image.open('IMG_5165.JPG')\n",
        "st.image(img,caption='aoi',use_column_width=True)"
      ],
      "execution_count": null,
      "outputs": []
    },
    {
      "cell_type": "markdown",
      "metadata": {
        "id": "53l_4hDodrEy"
      },
      "source": [
        "# **■動画の表示**\n",
        "\n",
        "ファイルを読み込み\n",
        "\n",
        "st.videoで表示\n",
        "\n",
        "```\n",
        "video_file = open('joined_video_33723519df344de29cfe06a2f8597005.MP4', 'rb')\n",
        "video_bytes = video_file.read()\n",
        "st.video(video_bytes)\n",
        "\n",
        "```\n",
        "\n"
      ]
    },
    {
      "cell_type": "markdown",
      "metadata": {
        "id": "PR1ishreygs2"
      },
      "source": [
        "# **■インタラクティブなウィジェット**\n",
        "\n",
        "\n",
        "*   チェックボックス\n",
        "if文で作成(true or false)\n",
        "```\n",
        "if st.checkbox('Show Image'):\n",
        "    img = Image.open('IMG_5165.JPG')\n",
        "    st.image(img,caption='aoi',use_column_width=True)\n",
        "```\n",
        "\n",
        "\n",
        "*   セレクトボックス\n",
        "```\n",
        "option = st.selectbox(\n",
        "    '好きな数字は？？',\n",
        "    list(range(1,11))\n",
        ")\n",
        "'好きな数字は、',option,'です。'\n",
        "```\n",
        "\n",
        "\n",
        "*   テキスト入力\n",
        "```\n",
        "st.write('Interactive Widgets')\n",
        "text = st.text_input('趣味は？？')\n",
        "'趣味は',text,'です。'\n",
        "```\n",
        "\n",
        "\n",
        "\n",
        "*   スライダー\n",
        "```\n",
        "con = st.slider('コンディションは？',0,100,20)\n",
        "'コンディションは、',con\n",
        "```\n",
        "\n",
        "\n",
        "\n",
        "\n",
        "\n"
      ]
    },
    {
      "cell_type": "markdown",
      "metadata": {
        "id": "sxh8Ds70gZKV"
      },
      "source": [
        "# **■レイアウトを整える**\n",
        "サイドバーを追加\n",
        "\n",
        "```\n",
        "text = st.sidebar.text_input('趣味は？？')\n",
        "con = st.sidebar.add_rowsslider('コンディションは？',0,100,20)\n",
        "```\n",
        "①2カラムレイアウトにする。\n",
        "\n",
        "左のカラム→ボタン\n",
        "\n",
        "右のカラム→テキスト\n",
        "\n",
        "\n",
        "\n",
        "```\n",
        "left_column,right_column = st.beta_columns(2) '引数の数がカラム数になる\n",
        "button = left_column.button('右カラムに文字を表示')\n",
        "if button:\n",
        "    right_column.write('ここは右カラム')\n",
        "```\n",
        "②expanderの追加\n",
        "\n",
        "QAなどで使う\n",
        "\n",
        "```\n",
        "expander = st.beta_expander('問い合わせ')\n",
        "expander.write('答え')\n",
        "```\n",
        "\n",
        "\n",
        "\n"
      ]
    },
    {
      "cell_type": "markdown",
      "metadata": {
        "id": "Vaw8CRFLkUM9"
      },
      "source": [
        ""
      ]
    },
    {
      "cell_type": "markdown",
      "metadata": {
        "id": "Bu_xJ8qJnNKV"
      },
      "source": [
        "# **■プログレスバーの表示**\n",
        "\n",
        "\n",
        "```\n",
        "latest_iteration = st.empty()\n",
        "bar = st.progress(0)\n",
        "\n",
        "for i in range(100):\n",
        "    latest_iteration.text(f'Iteration {i +1}')\n",
        "    bar.progress(i +1)\n",
        "    time.sleep(0.1)\n",
        "```\n",
        "\n",
        "\n"
      ]
    },
    {
      "cell_type": "code",
      "metadata": {
        "id": "PJiUB5BoeJ1N"
      },
      "source": [
        ""
      ],
      "execution_count": null,
      "outputs": []
    },
    {
      "cell_type": "markdown",
      "metadata": {
        "id": "Hw2SS07S-WHR"
      },
      "source": [
        ""
      ]
    }
  ]
}